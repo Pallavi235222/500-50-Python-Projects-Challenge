{
 "cells": [
  {
   "cell_type": "code",
   "execution_count": 3,
   "id": "03bd12b9-7fb9-4214-92ae-69e04b625c74",
   "metadata": {},
   "outputs": [
    {
     "name": "stdout",
     "output_type": "stream",
     "text": [
      "600\n"
     ]
    }
   ],
   "source": [
    "666666num1 = 20\n",
    "num2 = 30\n",
    "num3 = num1*num2\n",
    "print(num3)"
   ]
  },
  {
   "cell_type": "code",
   "execution_count": 5,
   "id": "04f9b664-8a3e-428c-b3cb-5654b91edb53",
   "metadata": {},
   "outputs": [
    {
     "name": "stdout",
     "output_type": "stream",
     "text": [
      "70\n"
     ]
    }
   ],
   "source": [
    "num1 = 40\n",
    "num2 = 30\n",
    "num3 = num1+num2\n",
    "print(num3)"
   ]
  },
  {
   "cell_type": "code",
   "execution_count": 8,
   "id": "6bd74068-1933-4c09-9572-a18f9dabf32f",
   "metadata": {},
   "outputs": [
    {
     "name": "stdout",
     "output_type": "stream",
     "text": [
      "600\n",
      "70\n"
     ]
    }
   ],
   "source": [
    "def multiplication_of_the_nums(num1, num2):\n",
    "    product = num1*num2\n",
    "    if product<=1000:\n",
    "        print(product)\n",
    "    else:\n",
    "        num = num1+num2\n",
    "        print(num)\n",
    "result= multiplication_of_the_nums(20,30)\n",
    "result= multiplication_of_the_nums(40,30)"
   ]
  },
  {
   "cell_type": "code",
   "execution_count": 12,
   "id": "69f74d61-eb13-4d67-8402-6c6e9bcfae6a",
   "metadata": {},
   "outputs": [
    {
     "name": "stdout",
     "output_type": "stream",
     "text": [
      "previous_num =  0 current_num=  1 sum of the num=  1\n",
      "previous_num =  1 current_num=  2 sum of the num=  3\n",
      "previous_num =  2 current_num=  3 sum of the num=  5\n",
      "previous_num =  3 current_num=  4 sum of the num=  7\n",
      "previous_num =  4 current_num=  5 sum of the num=  9\n",
      "previous_num =  5 current_num=  6 sum of the num=  11\n",
      "previous_num =  6 current_num=  7 sum of the num=  13\n",
      "previous_num =  7 current_num=  8 sum of the num=  15\n",
      "previous_num =  8 current_num=  9 sum of the num=  17\n",
      "previous_num =  9 current_num=  10 sum of the num=  19\n"
     ]
    }
   ],
   "source": [
    "previous_num=0\n",
    "for i in range(1,11):\n",
    "    sum_of_the_num = previous_num+i\n",
    "    print(\"previous_num = \", previous_num ,\"current_num= \", i ,\"sum of the num= \",previous_num+i)\n",
    "    previous_num=i\n"
   ]
  },
  {
   "cell_type": "code",
   "execution_count": 34,
   "id": "9a5e1bbb-0954-4354-87d2-d712a3e1aa34",
   "metadata": {},
   "outputs": [
    {
     "name": "stdin",
     "output_type": "stream",
     "text": [
      "enter your name:  pallavispa\n"
     ]
    },
    {
     "name": "stdout",
     "output_type": "stream",
     "text": [
      "pallavispa\n",
      "index[ 0 ] p\n",
      "index[ 2 ] l\n",
      "index[ 4 ] a\n",
      "index[ 6 ] i\n",
      "index[ 8 ] p\n"
     ]
    }
   ],
   "source": [
    "name = input(\"enter your name: \")\n",
    "print(name)\n",
    "size = len(name)\n",
    "for i in range(0, size-1, 2):\n",
    "    print(\"index[\",i,\"]\", name[i])"
   ]
  },
  {
   "cell_type": "code",
   "execution_count": 44,
   "id": "e8b8d2b5-fe6e-4de0-95c0-c1fe9d5977e3",
   "metadata": {},
   "outputs": [
    {
     "name": "stdin",
     "output_type": "stream",
     "text": [
      "enter the name pallavi\n"
     ]
    },
    {
     "name": "stdout",
     "output_type": "stream",
     "text": [
      "p\n",
      "l\n",
      "a\n",
      "i\n"
     ]
    }
   ],
   "source": [
    "word = input(\"enter the name\" )\n",
    "\n",
    "a = list(word)\n",
    "for i in a[0::2]:\n",
    "    print(i)\n"
   ]
  },
  {
   "cell_type": "code",
   "execution_count": 47,
   "id": "9eafb5fa-2c8d-4315-b1b2-91bd71765089",
   "metadata": {},
   "outputs": [
    {
     "name": "stdin",
     "output_type": "stream",
     "text": [
      "enter the string pallavi\n"
     ]
    },
    {
     "name": "stdout",
     "output_type": "stream",
     "text": [
      "lavi\n"
     ]
    }
   ],
   "source": [
    "name = input(\"enter the string\" )\n",
    "print(name[3::])"
   ]
  },
  {
   "cell_type": "code",
   "execution_count": 54,
   "id": "25c63f1e-b397-4fe6-8c0b-5b95ee961489",
   "metadata": {},
   "outputs": [
    {
     "name": "stdout",
     "output_type": "stream",
     "text": [
      "after removing\n",
      "pallavi\n",
      "llavi\n",
      "pallavi\n",
      "lavi\n"
     ]
    }
   ],
   "source": [
    "def remove_words(name,n):\n",
    "    print(name)\n",
    "    a = name[n:]\n",
    "    return a\n",
    "print(\"after removing\")\n",
    "print(remove_words(\"pallavi\",2))\n",
    "print(remove_words(\"pallavi\",3))\n"
   ]
  },
  {
   "cell_type": "code",
   "execution_count": 62,
   "id": "b5b090bd-54c0-44e2-83af-b9f5407e31c3",
   "metadata": {},
   "outputs": [
    {
     "name": "stdout",
     "output_type": "stream",
     "text": [
      "[10, 20, 30, 40, 50, 10]\n",
      "True\n",
      "None\n",
      "[30, 59, 28, 58, 24, 95]\n",
      "False\n",
      "None\n"
     ]
    }
   ],
   "source": [
    "def number_list(num):\n",
    "    print(num)\n",
    "    \n",
    "    first_num = num[0]\n",
    "    last_num = num[-1]\n",
    "    if first_num == last_num:\n",
    "        print(True)\n",
    "    else:\n",
    "        print(False)\n",
    "num1 = [10,20,30,40,50,10]\n",
    "print(number_list(num1))\n",
    "num2 = [30,59,28,58,24,95]\n",
    "print(number_list(num2))"
   ]
  },
  {
   "cell_type": "code",
   "execution_count": 76,
   "id": "c6ae0c17-6349-498f-a59f-f384a940c653",
   "metadata": {},
   "outputs": [
    {
     "name": "stdout",
     "output_type": "stream",
     "text": [
      "[20, 8, 7, 55, 10]\n",
      "divisible by 5\n",
      "20\n",
      "55\n",
      "10\n"
     ]
    }
   ],
   "source": [
    "list1 =[20,8,7,55,10]\n",
    "print(list1)\n",
    "print(\"divisible by 5\")\n",
    "for i in list1:\n",
    "    if i%5==0:\n",
    "        print(i)"
   ]
  },
  {
   "cell_type": "code",
   "execution_count": 81,
   "id": "05326768-7065-40c0-985f-fb377905dc00",
   "metadata": {},
   "outputs": [
    {
     "name": "stdout",
     "output_type": "stream",
     "text": [
      "2\n"
     ]
    }
   ],
   "source": [
    "# with string method\n",
    "str = \"emma is an devloper. emma is an programmer\"\n",
    "print(str.count(\"emma\"))\n"
   ]
  },
  {
   "cell_type": "code",
   "execution_count": 98,
   "id": "97f6c345-2a1d-4d8c-9665-6e111baacce2",
   "metadata": {},
   "outputs": [
    {
     "name": "stdout",
     "output_type": "stream",
     "text": [
      "emma is an devloper. emma is an programmer\n",
      "2\n"
     ]
    }
   ],
   "source": [
    "def count_emma(Statement):\n",
    "    print(Statement)\n",
    "    count = 0\n",
    "    for i in range(len(Statement)-1):\n",
    "        count += Statement[i: i+4]==\"emma\"\n",
    "    return count\n",
    "count = count_emma(\"emma is an devloper. emma is an programmer\")\n",
    "print(count)"
   ]
  },
  {
   "cell_type": "code",
   "execution_count": 99,
   "id": "36859aff-2015-4d63-8054-c654933f09db",
   "metadata": {},
   "outputs": [
    {
     "name": "stdout",
     "output_type": "stream",
     "text": [
      "\n",
      "\n",
      "1 \n",
      "\n",
      "2 2 \n",
      "\n",
      "3 3 3 \n",
      "\n",
      "4 4 4 4 \n",
      "\n",
      "5 5 5 5 5 \n",
      "\n",
      "6 6 6 6 6 6 \n",
      "\n",
      "7 7 7 7 7 7 7 \n",
      "\n",
      "8 8 8 8 8 8 8 8 \n",
      "\n",
      "9 9 9 9 9 9 9 9 9 \n",
      "\n"
     ]
    }
   ],
   "source": [
    "for num in range(10):\n",
    "    for i in range(num):\n",
    "        print(num, end=\" \")\n",
    "    print(\"\\n\")\n",
    "    "
   ]
  },
  {
   "cell_type": "code",
   "execution_count": 105,
   "id": "8cb98a84-6abb-4c9a-af3f-f29944cad3ac",
   "metadata": {},
   "outputs": [
    {
     "name": "stdout",
     "output_type": "stream",
     "text": [
      "121\n",
      "number is not plandrom\n",
      "None\n",
      "234\n",
      "number is not plandrom\n",
      "None\n"
     ]
    }
   ],
   "source": [
    "def number(num):\n",
    "    print(num)\n",
    "    original_num = num\n",
    "    reverse_num =0\n",
    "    while num<0:\n",
    "        original_num = num\n",
    "        reminder = num%10\n",
    "        reverse_num = (reminder*10)+reverse_num\n",
    "        num=num//10\n",
    "    if original_num==reverse_num:\n",
    "        print(\"number is palandrom\")\n",
    "    else:\n",
    "        print(\"number is not plandrom\")\n",
    "print(number(121))\n",
    "print(number(234))"
   ]
  },
  {
   "cell_type": "code",
   "execution_count": 111,
   "id": "74096b2f-f0b2-4356-a480-10a0d3a95138",
   "metadata": {},
   "outputs": [
    {
     "name": "stdout",
     "output_type": "stream",
     "text": [
      "[87, 80, 20]\n"
     ]
    }
   ],
   "source": [
    "def merge_list(l1, l2):\n",
    "    result_num=[]\n",
    "    for num in l1:\n",
    "        if num%2!=0:\n",
    "            result_num.append(num)\n",
    "    for num in l2:\n",
    "        if num%2==0:\n",
    "           result_num.append(num)\n",
    "    return result_num\n",
    "l1=[10,40,70,56,87]\n",
    "l2=[57,80,20,47,83]\n",
    "print(merge_list(l1,l2))"
   ]
  },
  {
   "cell_type": "code",
   "execution_count": 113,
   "id": "ba650401-7606-4565-8c23-5c5c9872f501",
   "metadata": {},
   "outputs": [
    {
     "name": "stdout",
     "output_type": "stream",
     "text": [
      "1 2 3 4 5 6 7 8 9 10 \n",
      "\n",
      "2 4 6 8 10 12 14 16 18 20 \n",
      "\n",
      "3 6 9 12 15 18 21 24 27 30 \n",
      "\n",
      "4 8 12 16 20 24 28 32 36 40 \n",
      "\n",
      "5 10 15 20 25 30 35 40 45 50 \n",
      "\n",
      "6 12 18 24 30 36 42 48 54 60 \n",
      "\n",
      "7 14 21 28 35 42 49 56 63 70 \n",
      "\n",
      "8 16 24 32 40 48 56 64 72 80 \n",
      "\n",
      "9 18 27 36 45 54 63 72 81 90 \n",
      "\n",
      "10 20 30 40 50 60 70 80 90 100 \n",
      "\n"
     ]
    }
   ],
   "source": [
    "for i in range(1,11):\n",
    "    for j in range(1,11):\n",
    "        print(j*i, end=\" \")\n",
    "    print(\"\\n\")"
   ]
  },
  {
   "cell_type": "code",
   "execution_count": 120,
   "id": "32b241d2-bfee-4846-94c1-5dad6c7fa3a5",
   "metadata": {},
   "outputs": [
    {
     "name": "stdout",
     "output_type": "stream",
     "text": [
      "* * * * *  \n",
      "* * * *  \n",
      "* * *  \n",
      "* *  \n",
      "*  \n",
      " \n"
     ]
    }
   ],
   "source": [
    "for i in range(6,0,-1):\n",
    "    for j in range(0, i -1):\n",
    "        print(\"*\", end=\" \")\n",
    "    print(\" \")"
   ]
  },
  {
   "cell_type": "code",
   "execution_count": 123,
   "id": "a1706c8f-bf7a-4da0-9d2f-2dfa24079c7a",
   "metadata": {},
   "outputs": [
    {
     "name": "stdout",
     "output_type": "stream",
     "text": [
      "4 9 256\n"
     ]
    }
   ],
   "source": [
    "def expo(num1,num2):\n",
    "    exp = num1\n",
    "    result = 1\n",
    "    while exp>0:\n",
    "        result = result*num1\n",
    "        exp = exp-1\n",
    "    print(num1, num2, result)\n",
    "expo(4,9)\n",
    "    \n",
    "    "
   ]
  },
  {
   "cell_type": "code",
   "execution_count": 1,
   "id": "70e81f6c-9416-4b03-b287-aa744ac88a61",
   "metadata": {},
   "outputs": [
    {
     "name": "stdout",
     "output_type": "stream",
     "text": [
      "0\n",
      "1\n",
      "2\n",
      "3\n",
      "4\n",
      "5\n",
      "6\n",
      "7\n",
      "8\n",
      "9\n"
     ]
    }
   ],
   "source": [
    "n=0\n",
    "while n<10:\n",
    "    print(n)\n",
    "    n=n+1"
   ]
  },
  {
   "cell_type": "code",
   "execution_count": 8,
   "id": "290047d9-f20d-4421-beb9-bca9850ae852",
   "metadata": {},
   "outputs": [
    {
     "name": "stdin",
     "output_type": "stream",
     "text": [
      "enter the num:  3\n"
     ]
    },
    {
     "name": "stdout",
     "output_type": "stream",
     "text": [
      "is not prime\n"
     ]
    }
   ],
   "source": [
    "isprime=0\n",
    "num = int(input(\"enter the num: \"))\n",
    "for i in range(1,num):\n",
    "    if(num%i==0):\n",
    "        isprime+=1\n",
    "if(isprime==2):\n",
    "    print(\"is prime\")\n",
    "else:\n",
    "    print(\"is not prime\")"
   ]
  },
  {
   "cell_type": "code",
   "execution_count": 12,
   "id": "58705811-0e6c-4017-949e-6ab739c48471",
   "metadata": {},
   "outputs": [
    {
     "name": "stdin",
     "output_type": "stream",
     "text": [
      "enter the num of l:  5\n",
      "enter the num of h:  24\n"
     ]
    },
    {
     "name": "stdout",
     "output_type": "stream",
     "text": [
      "5\n",
      "7\n",
      "11\n",
      "13\n",
      "17\n",
      "19\n",
      "23\n"
     ]
    }
   ],
   "source": [
    "isprime=0\n",
    "l=int(input(\"enter the num of l: \"))\n",
    "h=int(input(\"enter the num of h: \"))\n",
    "for i in range(l,h):\n",
    "    isprime=0\n",
    "    for j in range(1,i+1):\n",
    "        if i%j==0:\n",
    "            isprime+=1\n",
    "    if(isprime==2):\n",
    "      print(i)\n",
    "    else:\n",
    "      pass\n",
    "      \n",
    "      "
   ]
  },
  {
   "cell_type": "code",
   "execution_count": null,
   "id": "ceddfd8a-ba04-4bb5-8174-5094a5717cbe",
   "metadata": {},
   "outputs": [],
   "source": []
  }
 ],
 "metadata": {
  "kernelspec": {
   "display_name": "Python 3 (ipykernel)",
   "language": "python",
   "name": "python3"
  },
  "language_info": {
   "codemirror_mode": {
    "name": "ipython",
    "version": 3
   },
   "file_extension": ".py",
   "mimetype": "text/x-python",
   "name": "python",
   "nbconvert_exporter": "python",
   "pygments_lexer": "ipython3",
   "version": "3.11.0"
  }
 },
 "nbformat": 4,
 "nbformat_minor": 5
}
